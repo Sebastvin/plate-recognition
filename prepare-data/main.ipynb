{
 "cells": [
  {
   "cell_type": "code",
   "execution_count": 2,
   "id": "705c7737-d841-496f-9521-920df632aada",
   "metadata": {
    "tags": []
   },
   "outputs": [],
   "source": [
    "import labelbox\n",
    "import json\n",
    "import os\n",
    "import urllib\n",
    "import numpy as np\n",
    "import cv2\n",
    "import matplotlib.pyplot as plt\n",
    "from sklearn.model_selection import train_test_split\n",
    "from urllib.parse import urlparse, unquote\n",
    "import matplotlib.pyplot as plt\n",
    "import password\n",
    "import requests\n",
    "import pickle"
   ]
  },
  {
   "cell_type": "code",
   "execution_count": 22,
   "id": "71a91477-98ad-41f4-8658-c887349cd6db",
   "metadata": {
    "tags": []
   },
   "outputs": [],
   "source": [
    "class FetchImages:\n",
    "    def __init__(self, lb_api_key, project_id):\n",
    "        self.lb_api_key = lb_api_key\n",
    "        self.project_id = project_id\n",
    "\n",
    "    def preprocess_data(self, data, size=(640, 640), save_to_folder=True):\n",
    "        images = []\n",
    "        labels = []\n",
    "        annotations = []\n",
    "\n",
    "        if save_to_folder:\n",
    "            if not os.path.exists(\"temp_images\"):\n",
    "                os.makedirs(\"temp_images\")\n",
    "            if not os.path.exists(\"temp_data\"):\n",
    "                os.makedirs(\"temp_data\")\n",
    "\n",
    "        for entry in data:\n",
    "            try:\n",
    "                img_url = entry[\"Labeled Data\"]\n",
    "                response = requests.get(img_url, stream=True)\n",
    "                response.raise_for_status()\n",
    "\n",
    "                img_bytes = response.content\n",
    "                img_array = np.frombuffer(img_bytes, dtype=np.uint8)\n",
    "                img = cv2.imdecode(img_array, cv2.IMREAD_COLOR)\n",
    "\n",
    "                if img is None:\n",
    "                    print(f\"Nie można wczytać obrazu: {img_url}\")\n",
    "                    continue\n",
    "\n",
    "                img = cv2.cvtColor(img, cv2.COLOR_BGR2RGB)\n",
    "\n",
    "                bbox = entry[\"Label\"][\"objects\"][0][\"bbox\"]\n",
    "                if bbox[\"height\"] <= 0 or bbox[\"width\"] <= 0:\n",
    "                    print(f\"Nieprawidłowe współrzędne obrazu: {img_url}\")\n",
    "                    continue\n",
    "\n",
    "                plate = img[\n",
    "                    bbox[\"top\"] : bbox[\"top\"] + bbox[\"height\"],\n",
    "                    bbox[\"left\"] : bbox[\"left\"] + bbox[\"width\"],\n",
    "                ]\n",
    "\n",
    "                if plate.size == 0:\n",
    "                    print(f\"Nie można przeskalować obrazu: {img_url}\")\n",
    "                    continue\n",
    "\n",
    "                # Scaling the image\n",
    "                scale_ratio_y = size[0] / img.shape[0]\n",
    "                scale_ratio_x = size[1] / img.shape[1]\n",
    "                img_resized = cv2.resize(img, size)\n",
    "\n",
    "                # Scaling the bounding box coordinates\n",
    "                bbox_scaled = {\n",
    "                    \"top\": int(bbox[\"top\"] * scale_ratio_y),\n",
    "                    \"left\": int(bbox[\"left\"] * scale_ratio_x),\n",
    "                    \"height\": int(bbox[\"height\"] * scale_ratio_y),\n",
    "                    \"width\": int(bbox[\"width\"] * scale_ratio_x),\n",
    "                }\n",
    "\n",
    "                if save_to_folder:\n",
    "                    img_name = entry[\"External ID\"]\n",
    "                    img_path = os.path.join(\"temp_images\", img_name)\n",
    "                    cv2.imwrite(img_path, cv2.cvtColor(img_resized, cv2.COLOR_RGB2BGR))\n",
    "\n",
    "                images.append(img_resized)\n",
    "                labels.append(entry[\"External ID\"])\n",
    "                annotations.append(bbox_scaled)\n",
    "\n",
    "            except Exception as e:\n",
    "                print(f\"Wystąpił błąd podczas przetwarzania obrazu: {img_url}\")\n",
    "                print(f\"Szczegóły błędu: {str(e)}\")\n",
    "\n",
    "        if save_to_folder:\n",
    "            with open(\"temp_data/images.pkl\", \"wb\") as f:\n",
    "                pickle.dump(images, f)\n",
    "            with open(\"temp_data/annotations.pkl\", \"wb\") as f:\n",
    "                pickle.dump(annotations, f)\n",
    "            with open(\"temp_data/labels.pkl\", \"wb\") as f:\n",
    "                pickle.dump(labels, f)\n",
    "\n",
    "    def fetch_data(self):\n",
    "        # Labelbox API key here\n",
    "        lb = labelbox.Client(api_key=self.lb_api_key)\n",
    "\n",
    "        # Get project by ID\n",
    "        project = lb.get_project(self.project_id)\n",
    "\n",
    "        # Export labels created in the selected date range as a json file:\n",
    "        labels = project.export_labels(\n",
    "            download=True, start=\"2023-04-02\", end=\"2023-05-02\"\n",
    "        )\n",
    "\n",
    "        self.preprocess_data(labels)\n",
    "\n",
    "    def load_data(self):\n",
    "        if (\n",
    "            os.path.exists(\"temp_data/images.pkl\")\n",
    "            and os.path.exists(\"temp_data/annotations.pkl\")\n",
    "            and os.path.exists(\"temp_data/labels.pkl\")\n",
    "        ):\n",
    "            with open(\"temp_data/images.pkl\", \"rb\") as f:\n",
    "                images = pickle.load(f)\n",
    "            with open(\"temp_data/annotations.pkl\", \"rb\") as f:\n",
    "                annotations = pickle.load(f)\n",
    "            with open(\"temp_data/labels.pkl\", \"rb\") as f:\n",
    "                labels = pickle.load(f)\n",
    "\n",
    "            return np.array(images), np.array(annotations), np.array(labels)\n",
    "\n",
    "    def create_annotations_structure(self, images, annotations, labels):\n",
    "        annotations_structure = []\n",
    "\n",
    "        for image, annotation, label in zip(images, annotations, labels):\n",
    "            height, width, _ = image.shape\n",
    "            objects = []\n",
    "\n",
    "            obj = {\n",
    "                \"class\": \"license\",\n",
    "                \"x_min\": annotation[\"left\"],\n",
    "                \"y_min\": annotation[\"top\"],\n",
    "                \"x_max\": annotation[\"left\"] + annotation[\"width\"],\n",
    "                \"y_max\": annotation[\"top\"] + annotation[\"height\"],\n",
    "            }\n",
    "            objects.append(obj)\n",
    "\n",
    "            ann_structure = {\n",
    "                \"filename\": label,\n",
    "                \"width\": width,\n",
    "                \"height\": height,\n",
    "                \"objects\": objects,\n",
    "            }\n",
    "            annotations_structure.append(ann_structure)\n",
    "\n",
    "        return annotations_structure\n",
    "\n",
    "    def convert_to_yolo_format(self, annotations, output_dir):\n",
    "        if not os.path.exists(output_dir):\n",
    "            os.makedirs(output_dir)\n",
    "\n",
    "        class_mapping = {\n",
    "            \"license\": 0\n",
    "        }  # mapowanie klasy na indeks (w tym przypadku mamy tylko jedną klasę)\n",
    "\n",
    "        for annotation in annotations:\n",
    "            img_path = annotation[\"filename\"]\n",
    "            img_width = annotation[\"width\"]\n",
    "            img_height = annotation[\"height\"]\n",
    "            objects = annotation[\"objects\"]\n",
    "\n",
    "            yolo_labels = []\n",
    "            for obj in objects:\n",
    "                class_name = obj[\"class\"]\n",
    "                class_index = class_mapping[class_name]\n",
    "\n",
    "                x_min, y_min, x_max, y_max = (\n",
    "                    obj[\"x_min\"],\n",
    "                    obj[\"y_min\"],\n",
    "                    obj[\"x_max\"],\n",
    "                    obj[\"y_max\"],\n",
    "                )\n",
    "\n",
    "                # Obliczanie współrzędnych środkowego punktu, szerokości i wysokości Bounding Box\n",
    "                x_center = (x_min + x_max) / 2\n",
    "                y_center = (y_min + y_max) / 2\n",
    "                width = x_max - x_min\n",
    "                height = y_max - y_min\n",
    "\n",
    "                # Normalizacja wartości do zakresu 0-1\n",
    "                x_center /= img_width\n",
    "                y_center /= img_height\n",
    "                width /= img_width\n",
    "                height /= img_height\n",
    "\n",
    "                yolo_label = f\"{class_index} {x_center:.6f} {y_center:.6f} {width:.6f} {height:.6f}\"\n",
    "                yolo_labels.append(yolo_label)\n",
    "\n",
    "            # Zapis etykiet do pliku .txt\n",
    "            base_filename = os.path.splitext(os.path.basename(img_path))[0]\n",
    "            output_path = os.path.join(output_dir, f\"{base_filename}.txt\")\n",
    "            with open(output_path, \"w\") as f:\n",
    "                f.write(\"\\n\".join(yolo_labels))"
   ]
  },
  {
   "cell_type": "code",
   "execution_count": 23,
   "id": "7d3c76b0-b83b-4e4a-8093-890277a7c11a",
   "metadata": {
    "tags": []
   },
   "outputs": [],
   "source": [
    "# Labelbox API key here\n",
    "LB_API_KEY = password.LB_API_KEY\n",
    "\n",
    "PROJECT_ID = \"clh13dzrw0l4a07zmf36u97rd\"\n",
    "\n",
    "image = FetchImages(LB_API_KEY, PROJECT_ID)"
   ]
  },
  {
   "cell_type": "code",
   "execution_count": null,
   "id": "79a52123-43bb-4241-a3a3-952da92d663a",
   "metadata": {
    "tags": []
   },
   "outputs": [],
   "source": [
    "image.fetch_data()"
   ]
  },
  {
   "cell_type": "code",
   "execution_count": 24,
   "id": "49b73158-5017-4746-9294-8da64a767774",
   "metadata": {
    "tags": []
   },
   "outputs": [],
   "source": [
    "images, annotations, labels = image.load_data()"
   ]
  },
  {
   "cell_type": "code",
   "execution_count": 25,
   "id": "63c80043-1356-4ae6-be08-d9a0c6f76dbe",
   "metadata": {
    "tags": []
   },
   "outputs": [],
   "source": [
    "annotations_structure = image.create_annotations_structure(images, annotations, labels)"
   ]
  },
  {
   "cell_type": "code",
   "execution_count": 26,
   "id": "0ae66e05-81b2-4348-8a92-582c12972bf0",
   "metadata": {
    "tags": []
   },
   "outputs": [],
   "source": [
    "image.convert_to_yolo_format(\n",
    "    annotations=annotations_structure, output_dir=\"yolo_format_plate\"\n",
    ")"
   ]
  },
  {
   "cell_type": "code",
   "execution_count": 27,
   "id": "e6a4665a-d884-44b2-978e-f7519b8e515d",
   "metadata": {
    "tags": []
   },
   "outputs": [],
   "source": [
    "images_folder = \"temp_images\"\n",
    "\n",
    "# Pobierz listę wszystkich plików w folderze\n",
    "all_files = os.listdir(images_folder)\n",
    "\n",
    "# Stwórz listę zawierającą tylko ścieżki do plików z rozszerzeniem .jpg\n",
    "# image_paths = [os.path.join(images_folder, file) for file in all_files if file.endswith('.jpeg')]\n",
    "image_paths = [file for file in all_files if file.endswith(\".jpeg\")]"
   ]
  },
  {
   "cell_type": "code",
   "execution_count": 28,
   "id": "22645e8a-5a3f-461b-af95-47552dc7a5c5",
   "metadata": {
    "tags": []
   },
   "outputs": [],
   "source": [
    "train_images, val_images = train_test_split(image_paths, test_size=0.2, random_state=42)"
   ]
  },
  {
   "cell_type": "code",
   "execution_count": 29,
   "id": "f274944c-222b-4bec-b5e6-534b5dc1b88c",
   "metadata": {
    "tags": []
   },
   "outputs": [],
   "source": [
    "with open(\"train.txt\", \"w\") as f:\n",
    "    for img_path in train_images:\n",
    "        f.write(f\"{img_path}\\n\")\n",
    "\n",
    "with open(\"val.txt\", \"w\") as f:\n",
    "    for img_path in val_images:\n",
    "        f.write(f\"{img_path}\\n\")"
   ]
  }
 ],
 "metadata": {
  "kernelspec": {
   "display_name": "Python 3 (ipykernel)",
   "language": "python",
   "name": "python3"
  },
  "language_info": {
   "codemirror_mode": {
    "name": "ipython",
    "version": 3
   },
   "file_extension": ".py",
   "mimetype": "text/x-python",
   "name": "python",
   "nbconvert_exporter": "python",
   "pygments_lexer": "ipython3",
   "version": "3.11.3"
  }
 },
 "nbformat": 4,
 "nbformat_minor": 5
}
