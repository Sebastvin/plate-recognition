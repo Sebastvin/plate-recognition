{
 "cells": [
  {
   "cell_type": "code",
   "execution_count": null,
   "id": "e23b3a55-753a-4dea-8550-44b6ac3aefa8",
   "metadata": {},
   "outputs": [],
   "source": [
    "# https://scikit-learn.org/stable/index.html\n",
    "from sklearn.model_selection import cross_validate"
   ]
  }
 ],
 "metadata": {
  "kernelspec": {
   "display_name": "Python 3 (ipykernel)",
   "language": "python",
   "name": "python3"
  },
  "language_info": {
   "codemirror_mode": {
    "name": "ipython",
    "version": 3
   },
   "file_extension": ".py",
   "mimetype": "text/x-python",
   "name": "python",
   "nbconvert_exporter": "python",
   "pygments_lexer": "ipython3",
   "version": "3.11.2"
  }
 },
 "nbformat": 4,
 "nbformat_minor": 5
}
