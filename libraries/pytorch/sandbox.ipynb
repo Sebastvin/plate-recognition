{
 "cells": [
  {
   "cell_type": "code",
   "execution_count": null,
   "id": "b904c882-dfc6-4d91-bafa-d7794b5ba0a3",
   "metadata": {},
   "outputs": [],
   "source": [
    "# https://pytorch.org/\n",
    "import torch"
   ]
  }
 ],
 "metadata": {
  "kernelspec": {
   "display_name": "Python 3 (ipykernel)",
   "language": "python",
   "name": "python3"
  },
  "language_info": {
   "codemirror_mode": {
    "name": "ipython",
    "version": 3
   },
   "file_extension": ".py",
   "mimetype": "text/x-python",
   "name": "python",
   "nbconvert_exporter": "python",
   "pygments_lexer": "ipython3",
   "version": "3.11.2"
  }
 },
 "nbformat": 4,
 "nbformat_minor": 5
}
