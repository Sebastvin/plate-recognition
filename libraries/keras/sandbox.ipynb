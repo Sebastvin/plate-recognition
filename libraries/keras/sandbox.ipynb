{
 "cells": [
  {
   "cell_type": "code",
   "execution_count": 17,
   "id": "ae97b197-1608-4a1a-9dd8-76990c1beceb",
   "metadata": {
    "tags": []
   },
   "outputs": [],
   "source": [
    "# https://keras.io/\n",
    "from tensorflow import keras\n",
    "import labelbox\n",
    "import json\n",
    "import os\n",
    "import urllib\n",
    "import numpy as np\n",
    "import cv2\n",
    "import matplotlib.pyplot as plt\n",
    "from sklearn.model_selection import train_test_split\n",
    "from tensorflow.keras.models import Sequential\n",
    "from tensorflow.keras.layers import Conv2D, MaxPooling2D, Flatten, Dense, Dropout\n",
    "from tensorflow.keras.optimizers import Adam\n",
    "from tensorflow.keras.preprocessing.image import ImageDataGenerator\n",
    "from urllib.parse import urlparse, unquote\n",
    "import matplotlib.pyplot as plt\n",
    "import config\n",
    "import requests\n",
    "import pickle"
   ]
  },
  {
   "cell_type": "code",
   "execution_count": 18,
   "id": "e7d9bb53-8512-45f5-a9b3-66269346f9de",
   "metadata": {},
   "outputs": [],
   "source": [
    "# Enter your Labelbox API key here\n",
    "LB_API_KEY = config.LB_API_KEY\n",
    "# Create Labelbox client\n",
    "lb = labelbox.Client(api_key=LB_API_KEY)\n",
    "# Get project by ID\n",
    "project = lb.get_project('clh13dzrw0l4a07zmf36u97rd')\n",
    "# Export labels created in the selected date range as a json file:\n",
    "labels = project.export_labels(download = True, start=\"2023-04-02\", end=\"2023-05-02\")"
   ]
  },
  {
   "cell_type": "code",
   "execution_count": 19,
   "id": "e846167b-50eb-4de9-83e5-98b0a68cdc97",
   "metadata": {},
   "outputs": [],
   "source": [
    "def preprocess_data(data, size=(128, 128), save_to_folder=True):\n",
    "    images = []\n",
    "    labels = []\n",
    "    annotations = []\n",
    "\n",
    "    if save_to_folder:\n",
    "        if not os.path.exists('temp_images'):\n",
    "            os.makedirs('temp_images')\n",
    "        if not os.path.exists('temp_data'):\n",
    "            os.makedirs('temp_data')\n",
    "\n",
    "    for entry in data:\n",
    "        try:\n",
    "            img_url = entry['Labeled Data']\n",
    "            response = requests.get(img_url, stream=True)\n",
    "            response.raise_for_status()\n",
    "\n",
    "            img_bytes = response.content\n",
    "            img_array = np.frombuffer(img_bytes, dtype=np.uint8)\n",
    "            img = cv2.imdecode(img_array, cv2.IMREAD_COLOR)\n",
    "\n",
    "            if img is None:\n",
    "                print(f'Nie można wczytać obrazu: {img_url}')\n",
    "                continue\n",
    "\n",
    "            img = cv2.cvtColor(img, cv2.COLOR_BGR2RGB)\n",
    "\n",
    "            bbox = entry['Label']['objects'][0]['bbox']\n",
    "            if bbox['height'] <= 0 or bbox['width'] <= 0:\n",
    "                print(f'Nieprawidłowe współrzędne obrazu: {img_url}')\n",
    "                continue\n",
    "\n",
    "            plate = img[bbox['top']:bbox['top']+bbox['height'], bbox['left']:bbox['left']+bbox['width']]\n",
    "\n",
    "            if plate.size == 0:\n",
    "                print(f'Nie można przeskalować obrazu: {img_url}')\n",
    "                continue\n",
    "\n",
    "            # Scaling the image\n",
    "            scale_ratio_y = size[0] / img.shape[0]\n",
    "            scale_ratio_x = size[1] / img.shape[1]\n",
    "            img_resized = cv2.resize(img, size)\n",
    "\n",
    "            # Scaling the bounding box coordinates\n",
    "            bbox_scaled = {\n",
    "                'top': int(bbox['top'] * scale_ratio_y),\n",
    "                'left': int(bbox['left'] * scale_ratio_x),\n",
    "                'height': int(bbox['height'] * scale_ratio_y),\n",
    "                'width': int(bbox['width'] * scale_ratio_x),\n",
    "            }\n",
    "\n",
    "            if save_to_folder:\n",
    "                img_name = entry['External ID']\n",
    "                img_path = os.path.join('temp_images', img_name)\n",
    "                cv2.imwrite(img_path, cv2.cvtColor(img_resized, cv2.COLOR_RGB2BGR))\n",
    "\n",
    "            images.append(img_resized)\n",
    "            labels.append(entry['External ID'])\n",
    "            annotations.append(bbox_scaled)\n",
    "\n",
    "        except Exception as e:\n",
    "            print(f'Wystąpił błąd podczas przetwarzania obrazu: {img_url}')\n",
    "            print(f'Szczegóły błędu: {str(e)}')\n",
    "\n",
    "    if save_to_folder:\n",
    "        with open('temp_data/images.pkl', 'wb') as f:\n",
    "            pickle.dump(images, f)\n",
    "        with open('temp_data/annotations.pkl', 'wb') as f:\n",
    "            pickle.dump(annotations, f)\n",
    "        with open('temp_data/labels.pkl', 'wb') as f:\n",
    "            pickle.dump(labels, f)\n"
   ]
  },
  {
   "cell_type": "code",
   "execution_count": 20,
   "id": "e45ad93d-7991-4353-8eb9-7e1caa038be2",
   "metadata": {
    "tags": []
   },
   "outputs": [
    {
     "name": "stderr",
     "output_type": "stream",
     "text": [
      "Invalid SOS parameters for sequential JPEG\n",
      "Invalid SOS parameters for sequential JPEG\n",
      "Invalid SOS parameters for sequential JPEG\n"
     ]
    },
    {
     "name": "stdout",
     "output_type": "stream",
     "text": [
      "Nie można przeskalować obrazu: https://storage.labelbox.com/clh11uoed0m9x07x44c1a16av%2Fc749a4e6-7093-d94d-c74c-a846f0ba8bbc-EL_4R071.jpeg?Expires=1684340621301&KeyName=labelbox-assets-key-3&Signature=Je2nzWU_VSOrbyenfgwh59FmmNs\n",
      "Nie można przeskalować obrazu: https://storage.labelbox.com/clh11uoed0m9x07x44c1a16av%2F6d137c4d-119e-cafc-5c1d-558f0a345135-EL_9S610.jpeg?Expires=1684340621303&KeyName=labelbox-assets-key-3&Signature=MCeqANydoYTmJ70JJlJKEFdGXis\n"
     ]
    },
    {
     "name": "stderr",
     "output_type": "stream",
     "text": [
      "Invalid SOS parameters for sequential JPEG\n"
     ]
    },
    {
     "name": "stdout",
     "output_type": "stream",
     "text": [
      "Nie można przeskalować obrazu: https://storage.labelbox.com/clh11uoed0m9x07x44c1a16av%2F38f4439b-7684-bd11-52b3-b972cb230283-ETM_4LR7.jpeg?Expires=1684340621306&KeyName=labelbox-assets-key-3&Signature=VbIUW-wLBq1AeBI-jhbtm6rM_D4\n",
      "Nie można przeskalować obrazu: https://storage.labelbox.com/clh11uoed0m9x07x44c1a16av%2F4abd8c72-3c76-5498-92ba-d70bcf7e5549-KMY_04623.jpeg?Expires=1684340621326&KeyName=labelbox-assets-key-3&Signature=NzMvqgZa8tdmVFW7pPAiLEONX74\n"
     ]
    },
    {
     "name": "stderr",
     "output_type": "stream",
     "text": [
      "Invalid SOS parameters for sequential JPEG\n"
     ]
    },
    {
     "name": "stdout",
     "output_type": "stream",
     "text": [
      "Nie można przeskalować obrazu: https://storage.labelbox.com/clh11uoed0m9x07x44c1a16av%2F90aa9f51-ee72-d87d-2196-7b676391e6dd-KWA_61280.jpeg?Expires=1684340621330&KeyName=labelbox-assets-key-3&Signature=qJBeUUxotNYnXDQX3tIDGEI_uFY\n"
     ]
    },
    {
     "name": "stderr",
     "output_type": "stream",
     "text": [
      "Invalid SOS parameters for sequential JPEG\n"
     ]
    },
    {
     "name": "stdout",
     "output_type": "stream",
     "text": [
      "Nie można przeskalować obrazu: https://storage.labelbox.com/clh11uoed0m9x07x44c1a16av%2F997ac43d-97d4-987a-3de7-f2ce9c8da5b7-RZ_6299V.jpeg?Expires=1684340621479&KeyName=labelbox-assets-key-3&Signature=55zlNenoloK0eGSCcnG1-BbREYI\n",
      "Nie można przeskalować obrazu: https://storage.labelbox.com/clh11uoed0m9x07x44c1a16av%2F92def9f6-9411-04a2-4cb6-2ce7d2a9a280-SJ_3361E.jpeg?Expires=1684340621483&KeyName=labelbox-assets-key-3&Signature=lZdyk6ZmDEdQ3AeOFgN6MkwmEVI\n",
      "Nie można przeskalować obrazu: https://storage.labelbox.com/clh11uoed0m9x07x44c1a16av%2F5d2ea795-7e1b-c676-9886-e12e5cc5632d-TSK_42484.jpeg?Expires=1684340621490&KeyName=labelbox-assets-key-3&Signature=SdfphWEn58iq2RYfQWqF3aFO0xE\n",
      "Wystąpił błąd podczas przetwarzania obrazu: https://storage.labelbox.com/clh11uoed0m9x07x44c1a16av%2Fa4ee15f3-7b13-a227-3f73-95d1e91b7871-TOS_44632.jpeg?Expires=1684340621490&KeyName=labelbox-assets-key-3&Signature=pzqlk4P3Mwg-f0WGTTa7Gk6SwwU\n",
      "Szczegóły błędu: list index out of range\n",
      "Wystąpił błąd podczas przetwarzania obrazu: https://storage.labelbox.com/clh11uoed0m9x07x44c1a16av%2Fac7e9c48-d88b-e6a8-3b57-44ba45538b65-WCI_25082.jpeg?Expires=1684340621498&KeyName=labelbox-assets-key-3&Signature=v-EGJFOHJ-gWi9VQmvH2Q0n0nZM\n",
      "Szczegóły błędu: list index out of range\n",
      "Nie można przeskalować obrazu: https://storage.labelbox.com/clh11uoed0m9x07x44c1a16av%2Fe2ef1078-cb17-80dc-34b8-a0665d45a5f0-WE_4M827.jpeg?Expires=1684340621499&KeyName=labelbox-assets-key-3&Signature=wxvnRhrxNPqT-cxlhv8vDEpxhVg\n",
      "Wystąpił błąd podczas przetwarzania obrazu: https://storage.labelbox.com/clh11uoed0m9x07x44c1a16av%2F72d8e717-d01d-4b1a-7dd8-460d5a998dc0-WE_6Y570.jpeg?Expires=1684340621500&KeyName=labelbox-assets-key-3&Signature=AKxCmGxXzcJgEd6gTM-qHapqXXE\n",
      "Szczegóły błędu: list index out of range\n",
      "Nie można przeskalować obrazu: https://storage.labelbox.com/clh11uoed0m9x07x44c1a16av%2Fda317770-44d2-f36f-7975-3de89d401aed-WGM_32475.jpeg?Expires=1684340621502&KeyName=labelbox-assets-key-3&Signature=rjuGLGHI6ncRwDhkmRGpMJlflsY\n",
      "Wystąpił błąd podczas przetwarzania obrazu: https://storage.labelbox.com/clh11uoed0m9x07x44c1a16av%2Fc6978e79-d8ed-3459-1f7b-bce10cfeffd2-WJ_6122H.jpeg?Expires=1684340621504&KeyName=labelbox-assets-key-3&Signature=UkG3yUlWP7FOt8o6tAeFwVLlgwE\n",
      "Szczegóły błędu: list index out of range\n",
      "Nie można przeskalować obrazu: https://storage.labelbox.com/clh11uoed0m9x07x44c1a16av%2Ffe9a65ff-97ff-f784-7c2b-61ac537d7d3e-WPR_6330R.jpeg?Expires=1684340621508&KeyName=labelbox-assets-key-3&Signature=nWi6hj_qcb0JkrKIuNOdbvQ8SOQ\n"
     ]
    },
    {
     "name": "stderr",
     "output_type": "stream",
     "text": [
      "Invalid SOS parameters for sequential JPEG\n"
     ]
    },
    {
     "name": "stdout",
     "output_type": "stream",
     "text": [
      "Wystąpił błąd podczas przetwarzania obrazu: https://storage.labelbox.com/clh11uoed0m9x07x44c1a16av%2F3d38c9ea-3fec-d19a-f9cc-f8f56e05be13-WW_384TA.jpeg?Expires=1684340621513&KeyName=labelbox-assets-key-3&Signature=RAutPaHAFQhnHXBpKp33VCDLPgw\n",
      "Szczegóły błędu: list index out of range\n",
      "Wystąpił błąd podczas przetwarzania obrazu: https://storage.labelbox.com/clh11uoed0m9x07x44c1a16av%2F26e8fef8-45d3-ad30-c967-084133760d50-WWY_71375.jpeg?Expires=1684340621515&KeyName=labelbox-assets-key-3&Signature=aG595vxYwsirH1luVj-KHtFPsRI\n",
      "Szczegóły błędu: list index out of range\n",
      "Nie można przeskalować obrazu: https://storage.labelbox.com/clh11uoed0m9x07x44c1a16av%2Fda4180ec-950e-8f94-e0a3-7c6309e9d3d1-WY_821XA.jpeg?Expires=1684340621515&KeyName=labelbox-assets-key-3&Signature=VZoWoFTJ0FrVeXIAxs0rXGy6rZ8\n",
      "Wystąpił błąd podczas przetwarzania obrazu: https://storage.labelbox.com/clh11uoed0m9x07x44c1a16av%2Fdfffb413-108c-8dcc-9c4e-3dd3ef309de7-WY_7508N.jpeg?Expires=1684340621517&KeyName=labelbox-assets-key-3&Signature=P9qMPpaQlZXfCzhd3ZOUE0MGDfs\n",
      "Szczegóły błędu: list index out of range\n",
      "Nie można przeskalować obrazu: https://storage.labelbox.com/clh11uoed0m9x07x44c1a16av%2Fa333ee72-7797-6040-0838-4d875f99b4df-WZ_6581V.jpeg?Expires=1684340621519&KeyName=labelbox-assets-key-3&Signature=CPk_B8i9sU7p-gsI7GlwCA8RspQ\n",
      "Wystąpił błąd podczas przetwarzania obrazu: https://storage.labelbox.com/clh11uoed0m9x07x44c1a16av%2F819f65bc-575e-0540-9230-36b1d763a440-ZGL_42813.jpeg?Expires=1684340621521&KeyName=labelbox-assets-key-3&Signature=xXLPIp7Nx1Twirt46Oxw2u3aVbs\n",
      "Szczegóły błędu: list index out of range\n",
      "Wystąpił błąd podczas przetwarzania obrazu: https://storage.labelbox.com/clh11uoed0m9x07x44c1a16av%2Ff7f55673-37e4-84e3-8345-da1c1fe680a2-ZSZ_39226.jpeg?Expires=1684340621821&KeyName=labelbox-assets-key-3&Signature=jGhDtRWXFv4Mk3UJCBY3PwIjZR0\n",
      "Szczegóły błędu: list index out of range\n"
     ]
    },
    {
     "name": "stderr",
     "output_type": "stream",
     "text": [
      "Invalid SOS parameters for sequential JPEG\n",
      "Invalid SOS parameters for sequential JPEG\n"
     ]
    },
    {
     "name": "stdout",
     "output_type": "stream",
     "text": [
      "Nie można przeskalować obrazu: https://storage.labelbox.com/clh11uoed0m9x07x44c1a16av%2F4b09fdc7-2d89-ce91-e310-d50c90dc9744-EL_4R071.jpeg?Expires=1684340621997&KeyName=labelbox-assets-key-3&Signature=83T3KVQvVVCbgtyNmqILi-jw2cw\n",
      "Nie można przeskalować obrazu: https://storage.labelbox.com/clh11uoed0m9x07x44c1a16av%2F7e35bc2a-e801-9f8b-c570-0b8b3ed4a611-EL_9S610.jpeg?Expires=1684340621997&KeyName=labelbox-assets-key-3&Signature=xg5Wz-4JQ_f5F5TL27snwcX0T3c\n"
     ]
    },
    {
     "name": "stderr",
     "output_type": "stream",
     "text": [
      "Invalid SOS parameters for sequential JPEG\n"
     ]
    },
    {
     "name": "stdout",
     "output_type": "stream",
     "text": [
      "Nie można przeskalować obrazu: https://storage.labelbox.com/clh11uoed0m9x07x44c1a16av%2Fad434c6a-4550-c728-7810-831de1ec2a9c-ETM_4LR7.jpeg?Expires=1684340622003&KeyName=labelbox-assets-key-3&Signature=eG3GsBvnAKXG7vk6Fb_5pPDNSQM\n",
      "Wystąpił błąd podczas przetwarzania obrazu: https://storage.labelbox.com/clh11uoed0m9x07x44c1a16av%2Fe3b1e3a3-db2d-83c1-141f-31a48e4611eb-GPU_2EX6.jpeg?Expires=1684340622015&KeyName=labelbox-assets-key-3&Signature=PNKm-1vldxQyyqRss28omU4ETow\n",
      "Szczegóły błędu: list index out of range\n",
      "Nie można przeskalować obrazu: https://storage.labelbox.com/clh11uoed0m9x07x44c1a16av%2F0f260da9-6219-630b-a40a-3ff60f1f0766-KR_1EF66.jpeg?Expires=1684340622020&KeyName=labelbox-assets-key-3&Signature=j--O9C_vUtt7Rp9rU7-3XtNFKGI\n",
      "Nie można przeskalować obrazu: https://storage.labelbox.com/clh11uoed0m9x07x44c1a16av%2F035ea0e1-10ec-cb01-5691-9a0bce4465d2-KR_9PK11.jpeg?Expires=1684340622021&KeyName=labelbox-assets-key-3&Signature=TXjonlhDSSbzWutsu6K82eZ16I0\n",
      "Nie można przeskalować obrazu: https://storage.labelbox.com/clh11uoed0m9x07x44c1a16av%2F1224d8d9-7ad1-eb82-3320-c21a3371aa1a-KWA_61280.jpeg?Expires=1684340622023&KeyName=labelbox-assets-key-3&Signature=lUGX6B0GuO_C1A2Tc-SO47W0ZK4\n"
     ]
    },
    {
     "name": "stderr",
     "output_type": "stream",
     "text": [
      "Invalid SOS parameters for sequential JPEG\n"
     ]
    },
    {
     "name": "stdout",
     "output_type": "stream",
     "text": [
      "Wystąpił błąd podczas przetwarzania obrazu: https://storage.labelbox.com/clh11uoed0m9x07x44c1a16av%2F5b8d8e5d-0623-c615-4fee-31b97b2c3b32-NO_9542P.jpeg?Expires=1684340622028&KeyName=labelbox-assets-key-3&Signature=vgv2KYF0UZONUrq4HX_vVHEpkKw\n",
      "Szczegóły błędu: list index out of range\n"
     ]
    },
    {
     "name": "stderr",
     "output_type": "stream",
     "text": [
      "Invalid SOS parameters for sequential JPEG\n"
     ]
    },
    {
     "name": "stdout",
     "output_type": "stream",
     "text": [
      "Nie można przeskalować obrazu: https://storage.labelbox.com/clh11uoed0m9x07x44c1a16av%2F941fbb1f-c680-175d-c1af-61af362f5cd3-PTU_KC62.jpeg?Expires=1684340622125&KeyName=labelbox-assets-key-3&Signature=a0bxHZqJotIFwPIX4Vs3PH659pM\n",
      "Nie można przeskalować obrazu: https://storage.labelbox.com/clh11uoed0m9x07x44c1a16av%2F0fe6c2c1-9ca6-ccc2-13b6-7a2c2857191f-RZ_6299V.jpeg?Expires=1684340622129&KeyName=labelbox-assets-key-3&Signature=AbsYAGiOXWI2kEYQmEt3BpKu63M\n",
      "Wystąpił błąd podczas przetwarzania obrazu: https://storage.labelbox.com/clh11uoed0m9x07x44c1a16av%2Fbeb04431-06fc-364a-a9dd-63fec1a0684e-SGL_UW12.jpeg?Expires=1684340622132&KeyName=labelbox-assets-key-3&Signature=z7_sIdDGQet0OZ8kZc4SEuqn50U\n",
      "Szczegóły błędu: list index out of range\n",
      "Nie można przeskalować obrazu: https://storage.labelbox.com/clh11uoed0m9x07x44c1a16av%2F9e908c53-e92f-d976-e9e8-ee896d6e1654-SJ_3361E.jpeg?Expires=1684340622133&KeyName=labelbox-assets-key-3&Signature=fjks7ITHxP5Oj9j7w-53LTNXVro\n"
     ]
    },
    {
     "name": "stderr",
     "output_type": "stream",
     "text": [
      "Invalid SOS parameters for sequential JPEG\n"
     ]
    },
    {
     "name": "stdout",
     "output_type": "stream",
     "text": [
      "Nie można przeskalować obrazu: https://storage.labelbox.com/clh11uoed0m9x07x44c1a16av%2Facf1160a-504a-8960-53a3-671d420e534f-TSK_42484.jpeg?Expires=1684340622140&KeyName=labelbox-assets-key-3&Signature=ZbogwAjSeRRMC5roY6RmFMCYwz0\n",
      "Nie można przeskalować obrazu: https://storage.labelbox.com/clh11uoed0m9x07x44c1a16av%2F12cd53e4-1ca5-633e-b50d-18f736460143-WE_4M827.jpeg?Expires=1684340622142&KeyName=labelbox-assets-key-3&Signature=h6UHT39bfaEr5uHZAlUAw9qqZUw\n",
      "Wystąpił błąd podczas przetwarzania obrazu: https://storage.labelbox.com/clh11uoed0m9x07x44c1a16av%2Fbbeda194-dd26-666d-c8fb-a4e8859c0cce-WJ_6122H.jpeg?Expires=1684340622145&KeyName=labelbox-assets-key-3&Signature=EFTfB3w4qlto7RWTdtgEsGcwSQE\n",
      "Szczegóły błędu: list index out of range\n"
     ]
    },
    {
     "name": "stderr",
     "output_type": "stream",
     "text": [
      "Invalid SOS parameters for sequential JPEG\n"
     ]
    },
    {
     "name": "stdout",
     "output_type": "stream",
     "text": [
      "Wystąpił błąd podczas przetwarzania obrazu: https://storage.labelbox.com/clh11uoed0m9x07x44c1a16av%2F8bc66ee3-98cf-e325-16fb-b712127f92d3-WW_384TA.jpeg?Expires=1684340622152&KeyName=labelbox-assets-key-3&Signature=TX0zjIOupQxwxTst5eO7QXYFGTg\n",
      "Szczegóły błędu: list index out of range\n",
      "Wystąpił błąd podczas przetwarzania obrazu: https://storage.labelbox.com/clh11uoed0m9x07x44c1a16av%2F9dcd2728-2a5f-a9a1-75d9-405683635d11-WY_7508N.jpeg?Expires=1684340622155&KeyName=labelbox-assets-key-3&Signature=vU5llQ_RrvLUWcK4D8-OEWrlEZE\n",
      "Szczegóły błędu: list index out of range\n",
      "Wystąpił błąd podczas przetwarzania obrazu: https://storage.labelbox.com/clh11uoed0m9x07x44c1a16av%2F36e47294-8457-bad9-cc56-31026dfc5b9a-WZ_520FN.jpeg?Expires=1684340622155&KeyName=labelbox-assets-key-3&Signature=URyQb2xm3UNgjqxKtVkac8O-DF4\n",
      "Szczegóły błędu: list index out of range\n",
      "Wystąpił błąd podczas przetwarzania obrazu: https://storage.labelbox.com/clh11uoed0m9x07x44c1a16av%2F2fc73557-691e-6a72-edbf-2e1baae85b96-ZGL_42813.jpeg?Expires=1684340622157&KeyName=labelbox-assets-key-3&Signature=dfHdH1qfeYEls2eqCpWOIunI6pc\n",
      "Szczegóły błędu: list index out of range\n",
      "Wystąpił błąd podczas przetwarzania obrazu: https://storage.labelbox.com/clh11uoed0m9x07x44c1a16av%2F91296cb8-6082-164b-c284-8cb04c4ea035-ZSZ_39226.jpeg?Expires=1684340622161&KeyName=labelbox-assets-key-3&Signature=qUAHqbFhoROPvgZCdk-wIASCyxM\n",
      "Szczegóły błędu: list index out of range\n",
      "Done\n"
     ]
    }
   ],
   "source": [
    "preprocess_data(labels)\n",
    "print(\"Done\")"
   ]
  },
  {
   "cell_type": "code",
   "execution_count": 11,
   "id": "f933e6d1-7494-46c9-993a-81ffca79c48c",
   "metadata": {
    "tags": []
   },
   "outputs": [],
   "source": [
    "def load_data():\n",
    "    if os.path.exists('temp_data/images.pkl') and os.path.exists('temp_data/annotations.pkl') and os.path.exists('temp_data/labels.pkl'):\n",
    "        with open('temp_data/images.pkl', 'rb') as f:\n",
    "            images = pickle.load(f)\n",
    "        with open('temp_data/annotations.pkl', 'rb') as f:\n",
    "            annotations = pickle.load(f)\n",
    "        with open('temp_data/labels.pkl', 'rb') as f:\n",
    "            labels = pickle.load(f)\n",
    "            \n",
    "        return np.array(images), np.array(annotations), np.array(labels)"
   ]
  },
  {
   "cell_type": "code",
   "execution_count": 21,
   "id": "d93d9389-02c4-4eaa-a977-95de689b3a99",
   "metadata": {
    "tags": []
   },
   "outputs": [],
   "source": [
    "images, annotations, labels = load_data()"
   ]
  },
  {
   "cell_type": "code",
   "execution_count": 44,
   "id": "7d0cbf5a-c1c5-4d47-a87a-8f7f09cb0d7c",
   "metadata": {
    "tags": []
   },
   "outputs": [],
   "source": [
    "def create_annotations_structure(images, annotations, labels):\n",
    "    annotations_structure = []\n",
    "    \n",
    "    for image, annotation, label in zip(images, annotations, labels):\n",
    "        height, width, _ = image.shape\n",
    "        objects = []\n",
    "\n",
    "        obj = {\n",
    "            'class': 'plate',\n",
    "            'x_min': annotation['left'],\n",
    "            'y_min': annotation['top'],\n",
    "            'x_max': annotation['left'] + annotation['width'],\n",
    "            'y_max': annotation['top'] + annotation['height']\n",
    "        }\n",
    "        objects.append(obj)\n",
    "        \n",
    "        ann_structure = {\n",
    "            'filename': label,\n",
    "            'width': width,\n",
    "            'height': height,\n",
    "            'objects': objects\n",
    "        }\n",
    "        annotations_structure.append(ann_structure)\n",
    "    \n",
    "    return annotations_structure"
   ]
  },
  {
   "cell_type": "code",
   "execution_count": 45,
   "id": "ba0b1ee3-9cba-4656-8d2c-71f228a867d4",
   "metadata": {
    "tags": []
   },
   "outputs": [],
   "source": [
    "annotations_structure = create_annotations_structure(images, annotations, labels)"
   ]
  },
  {
   "cell_type": "code",
   "execution_count": 24,
   "id": "b996e4f8-02d9-49ba-aa1d-7842098f6588",
   "metadata": {
    "tags": []
   },
   "outputs": [],
   "source": [
    "def convert_to_yolo_format(annotations, output_dir):\n",
    "    if not os.path.exists(output_dir):\n",
    "        os.makedirs(output_dir)\n",
    "\n",
    "    class_mapping = {'plate': 0}  # mapowanie klasy na indeks (w tym przypadku mamy tylko jedną klasę)\n",
    "\n",
    "    for annotation in annotations:\n",
    "        img_path = annotation['filename']\n",
    "        img_width = annotation['width']\n",
    "        img_height = annotation['height']\n",
    "        objects = annotation['objects']\n",
    "\n",
    "        yolo_labels = []\n",
    "        for obj in objects:\n",
    "            class_name = obj['class']\n",
    "            class_index = class_mapping[class_name]\n",
    "\n",
    "            x_min, y_min, x_max, y_max = obj['x_min'], obj['y_min'], obj['x_max'], obj['y_max']\n",
    "\n",
    "            # Obliczanie współrzędnych środkowego punktu, szerokości i wysokości Bounding Box\n",
    "            x_center = (x_min + x_max) / 2\n",
    "            y_center = (y_min + y_max) / 2\n",
    "            width = x_max - x_min\n",
    "            height = y_max - y_min\n",
    "\n",
    "            # Normalizacja wartości do zakresu 0-1\n",
    "            x_center /= img_width\n",
    "            y_center /= img_height\n",
    "            width /= img_width\n",
    "            height /= img_height\n",
    "\n",
    "            yolo_label = f\"{class_index} {x_center:.6f} {y_center:.6f} {width:.6f} {height:.6f}\"\n",
    "            yolo_labels.append(yolo_label)\n",
    "\n",
    "        # Zapis etykiet do pliku .txt\n",
    "        base_filename = os.path.splitext(os.path.basename(img_path))[0]\n",
    "        output_path = os.path.join(output_dir, f\"{base_filename}.txt\")\n",
    "        with open(output_path, 'w') as f:\n",
    "            f.write(\"\\n\".join(yolo_labels))"
   ]
  },
  {
   "cell_type": "code",
   "execution_count": 46,
   "id": "ddbc0d9e-8e48-41cf-bef5-89641ced4fcd",
   "metadata": {
    "tags": []
   },
   "outputs": [],
   "source": [
    "convert_to_yolo_format(annotations=annotations_structure, output_dir=\"yolo_format_plate\")"
   ]
  },
  {
   "cell_type": "code",
   "execution_count": 49,
   "id": "6659ac33-78e6-47a4-8aef-81bb642fa6f1",
   "metadata": {
    "tags": []
   },
   "outputs": [],
   "source": [
    "images_folder = 'temp_images'\n",
    "\n",
    "# Pobierz listę wszystkich plików w folderze\n",
    "all_files = os.listdir(images_folder)\n",
    "\n",
    "# Stwórz listę zawierającą tylko ścieżki do plików z rozszerzeniem .jpg\n",
    "image_paths = [os.path.join(images_folder, file) for file in all_files if file.endswith('.jpeg')]"
   ]
  },
  {
   "cell_type": "code",
   "execution_count": 51,
   "id": "3d7446ce-2d16-4e2b-8974-17ceeba1ef13",
   "metadata": {
    "tags": []
   },
   "outputs": [],
   "source": [
    "train_images, val_images = train_test_split(image_paths, test_size=0.2, random_state=42)"
   ]
  },
  {
   "cell_type": "code",
   "execution_count": 55,
   "id": "2fa96090-2093-44ea-8935-aaf25d207b5c",
   "metadata": {
    "tags": []
   },
   "outputs": [],
   "source": [
    "with open('train.txt', 'w') as f:\n",
    "    for img_path in train_images:\n",
    "        f.write(f'{img_path}\\n')\n",
    "\n",
    "with open('val.txt', 'w') as f:\n",
    "    for img_path in val_images:\n",
    "        f.write(f'{img_path}\\n')"
   ]
  },
  {
   "cell_type": "code",
   "execution_count": null,
   "id": "9e7e5eb7-538f-4740-a8ce-70c0105b8547",
   "metadata": {},
   "outputs": [],
   "source": []
  }
 ],
 "metadata": {
  "kernelspec": {
   "display_name": "Python 3 (ipykernel)",
   "language": "python",
   "name": "python3"
  },
  "language_info": {
   "codemirror_mode": {
    "name": "ipython",
    "version": 3
   },
   "file_extension": ".py",
   "mimetype": "text/x-python",
   "name": "python",
   "nbconvert_exporter": "python",
   "pygments_lexer": "ipython3",
   "version": "3.10.6"
  }
 },
 "nbformat": 4,
 "nbformat_minor": 5
}
