{
 "cells": [
  {
   "cell_type": "code",
   "execution_count": 1,
   "id": "63523d7d-1be1-4b2e-9f9c-d03ad10a5b74",
   "metadata": {
    "tags": []
   },
   "outputs": [],
   "source": [
    "# https://www.tensorflow.org/\n",
    "# https://docs.opencv.org/4.x/\n",
    "import tensorflow as tf\n",
    "import cv2 as cv"
   ]
  },
  {
   "cell_type": "code",
   "execution_count": null,
   "id": "a5db6ddd-d3cc-46e7-8f71-c1f65dd35cfb",
   "metadata": {},
   "outputs": [],
   "source": [
    "images_path = '../../../chunk_1_cleaned'\n"
   ]
  }
 ],
 "metadata": {
  "kernelspec": {
   "display_name": "Python 3 (ipykernel)",
   "language": "python",
   "name": "python3"
  },
  "language_info": {
   "codemirror_mode": {
    "name": "ipython",
    "version": 3
   },
   "file_extension": ".py",
   "mimetype": "text/x-python",
   "name": "python",
   "nbconvert_exporter": "python",
   "pygments_lexer": "ipython3",
   "version": "3.11.2"
  }
 },
 "nbformat": 4,
 "nbformat_minor": 5
}
