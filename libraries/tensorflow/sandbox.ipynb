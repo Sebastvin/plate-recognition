{
 "cells": [
  {
   "cell_type": "code",
   "execution_count": 1,
   "id": "63523d7d-1be1-4b2e-9f9c-d03ad10a5b74",
   "metadata": {
    "tags": []
   },
   "outputs": [],
   "source": [
    "# https://www.tensorflow.org/\n",
    "# https://docs.opencv.org/4.x/\n",
    "import cv2 as cv\n",
    "import numpy as np\n",
    "import os\n",
    "import matplotlib.pyplot as plt\n",
    "from IPython import display"
   ]
  },
  {
   "cell_type": "code",
   "execution_count": 2,
   "id": "85e79d57-be5f-49f2-a2c8-6fff5520eb5c",
   "metadata": {},
   "outputs": [],
   "source": [
    "folder_path = './datasets/dataset_cleaned'\n",
    "out_path = './datasets/out'\n",
    "assert os.path.exists(folder_path)"
   ]
  },
  {
   "cell_type": "code",
   "execution_count": 3,
   "id": "a5db6ddd-d3cc-46e7-8f71-c1f65dd35cfb",
   "metadata": {},
   "outputs": [],
   "source": [
    "\n",
    "def detect_edges(image):\n",
    "    image = cv.Canny(image, 120, 200, apertureSize=3)\n",
    "    return image\n",
    "\n",
    "def detect_edges_clahe(image):\n",
    "    clahe = cv.createCLAHE(2, (4,4))\n",
    "    (ib, ig, ir) = cv.split(image)\n",
    "    image[:, :, 0], image[:, :, 1], image[:, :, 2] = clahe.apply(ib), clahe.apply(ig), clahe.apply(ir)\n",
    "    image = cv.Canny(image, 120, 200, apertureSize=3)\n",
    "    return image\n",
    "    \n",
    "def detect_edges_clahe_gray(image):\n",
    "    image = cv.cvtColor(image, cv.COLOR_BGR2GRAY)\n",
    "    clahe = cv.createCLAHE(2, (4,4))\n",
    "    image = clahe.apply(image)\n",
    "    image = cv.Canny(image, 120, 200, apertureSize=3)\n",
    "    return image\n",
    "\n",
    "def detect_contours_adaptive_thresh(image):\n",
    "    image = cv.GaussianBlur(image, (3, 3), 0)\n",
    "    gray = cv.cvtColor(image, cv.COLOR_BGR2GRAY)\n",
    "    gray = cv.adaptiveThreshold(gray,255,cv.ADAPTIVE_THRESH_GAUSSIAN_C,cv.THRESH_BINARY,11,-5)\n",
    "    contours, hierarchy = cv.findContours(gray, cv.RETR_TREE, cv.CHAIN_APPROX_SIMPLE)\n",
    "    image = cv.drawContours(np.zeros((len(image),len(image[0]),len(image[0,0]))), contours[:], -1, (255,255,255), 1)\n",
    "    return image\n",
    "\n",
    "def detect_contours_clahe(image):\n",
    "    image = cv.GaussianBlur(image, (3, 3), 0)\n",
    "    gray = cv.cvtColor(image, cv.COLOR_BGR2GRAY)\n",
    "    clahe = cv.createCLAHE(2, (20,20))\n",
    "    gray = clahe.apply(gray)\n",
    "    _, gray = cv.threshold(gray, 127, 255, cv.THRESH_BINARY)\n",
    "    contours, hierarchy = cv.findContours(gray, cv.RETR_TREE, cv.CHAIN_APPROX_SIMPLE)\n",
    "    contours = filter_contours(contours)\n",
    "    image = cv.drawContours(np.zeros((len(image),len(image[0]),len(image[0,0]))), contours[:], -1, (255,255,255), 1)\n",
    "    return image\n",
    "\n",
    "def filter_contours(contours):\n",
    "    filter_array = []\n",
    "    contours = np.array(contours)\n",
    "    for c in contours:\n",
    "        if cv.contourArea(c) < 250:\n",
    "            filter_array.append(False)\n",
    "            continue\n",
    "        # Check by relative area, contour points total, contour points per sqrt(area), shape\n",
    "        filter_array.append(True)\n",
    "    return contours[filter_array]"
   ]
  },
  {
   "cell_type": "code",
   "execution_count": 4,
   "id": "735e5cbb-6821-4dc1-b578-b01242c2f393",
   "metadata": {
    "tags": []
   },
   "outputs": [
    {
     "name": "stderr",
     "output_type": "stream",
     "text": [
      "C:\\Users\\Maciej\\AppData\\Local\\Temp\\ipykernel_8344\\2668395315.py:40: VisibleDeprecationWarning: Creating an ndarray from ragged nested sequences (which is a list-or-tuple of lists-or-tuples-or ndarrays with different lengths or shapes) is deprecated. If you meant to do this, you must specify 'dtype=object' when creating the ndarray.\n",
      "  contours = np.array(contours)\n"
     ]
    },
    {
     "ename": "KeyboardInterrupt",
     "evalue": "",
     "output_type": "error",
     "traceback": [
      "\u001b[1;31m---------------------------------------------------------------------------\u001b[0m",
      "\u001b[1;31mKeyboardInterrupt\u001b[0m                         Traceback (most recent call last)",
      "Cell \u001b[1;32mIn[4], line 15\u001b[0m\n\u001b[0;32m     12\u001b[0m         plt\u001b[38;5;241m.\u001b[39mshow()\n\u001b[0;32m     14\u001b[0m \u001b[38;5;28;01mfor\u001b[39;00m image_path \u001b[38;5;129;01min\u001b[39;00m os\u001b[38;5;241m.\u001b[39mscandir(folder_path):\n\u001b[1;32m---> 15\u001b[0m     image \u001b[38;5;241m=\u001b[39m \u001b[43mcv\u001b[49m\u001b[38;5;241;43m.\u001b[39;49m\u001b[43mimread\u001b[49m\u001b[43m(\u001b[49m\u001b[43mos\u001b[49m\u001b[38;5;241;43m.\u001b[39;49m\u001b[43mpath\u001b[49m\u001b[38;5;241;43m.\u001b[39;49m\u001b[43mjoin\u001b[49m\u001b[43m(\u001b[49m\u001b[43mfolder_path\u001b[49m\u001b[43m,\u001b[49m\u001b[43mimage_path\u001b[49m\u001b[38;5;241;43m.\u001b[39;49m\u001b[43mname\u001b[49m\u001b[43m)\u001b[49m\u001b[43m)\u001b[49m\n\u001b[0;32m     17\u001b[0m     image \u001b[38;5;241m=\u001b[39m process_image(image)\n\u001b[0;32m     19\u001b[0m     \u001b[38;5;66;03m# display_image(image, True)\u001b[39;00m\n",
      "\u001b[1;31mKeyboardInterrupt\u001b[0m: "
     ]
    }
   ],
   "source": [
    "def process_image(image):\n",
    "    image = detect_contours_clahe(image)\n",
    "    return image\n",
    "\n",
    "def display_image(image, single: bool) -> None:\n",
    "    plt.imshow(image, cmap='gray')\n",
    "    # plt.imshow(image)\n",
    "    if single:\n",
    "        display.clear_output()\n",
    "        display.display(plt.gcf())\n",
    "    else:\n",
    "        plt.show()\n",
    "        \n",
    "for image_path in os.scandir(folder_path):\n",
    "    image = cv.imread(os.path.join(folder_path,image_path.name))\n",
    "    \n",
    "    image = process_image(image)\n",
    "    \n",
    "    # display_image(image, True)\n",
    "    cv.imwrite(os.path.join(out_path,image_path.name), image)\n",
    "    \n",
    "    # if input() == 'q':\n",
    "        # break"
   ]
  },
  {
   "cell_type": "code",
   "execution_count": null,
   "id": "8ca43642-9fbe-4c5c-8115-7f9ac704adda",
   "metadata": {},
   "outputs": [],
   "source": []
  }
 ],
 "metadata": {
  "kernelspec": {
   "display_name": "Python 3 (ipykernel)",
   "language": "python",
   "name": "python3"
  },
  "language_info": {
   "codemirror_mode": {
    "name": "ipython",
    "version": 3
   },
   "file_extension": ".py",
   "mimetype": "text/x-python",
   "name": "python",
   "nbconvert_exporter": "python",
   "pygments_lexer": "ipython3",
   "version": "3.11.1"
  }
 },
 "nbformat": 4,
 "nbformat_minor": 5
}
