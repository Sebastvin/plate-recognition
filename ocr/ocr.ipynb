{
 "cells": [
  {
   "cell_type": "code",
   "execution_count": 1,
   "id": "43403061-dcbe-4a22-a56b-c7ed76789897",
   "metadata": {
    "tags": []
   },
   "outputs": [],
   "source": [
    "import cv2 as cv\n",
    "import keras\n",
    "import tensorflow as tf\n",
    "import numpy as np"
   ]
  },
  {
   "cell_type": "code",
   "execution_count": 2,
   "id": "b2cd5975-308c-45c5-9e90-dbfc03373349",
   "metadata": {
    "tags": []
   },
   "outputs": [],
   "source": [
    "charset = cv.imread('font.png')\n"
   ]
  },
  {
   "cell_type": "code",
   "execution_count": null,
   "id": "a436b59b-53b9-4551-a06e-92d50395a7ce",
   "metadata": {},
   "outputs": [],
   "source": []
  }
 ],
 "metadata": {
  "kernelspec": {
   "display_name": "Python 3 (ipykernel)",
   "language": "python",
   "name": "python3"
  },
  "language_info": {
   "codemirror_mode": {
    "name": "ipython",
    "version": 3
   },
   "file_extension": ".py",
   "mimetype": "text/x-python",
   "name": "python",
   "nbconvert_exporter": "python",
   "pygments_lexer": "ipython3",
   "version": "3.11.1"
  }
 },
 "nbformat": 4,
 "nbformat_minor": 5
}
