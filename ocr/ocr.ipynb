{
 "cells": [
  {
   "cell_type": "code",
   "execution_count": 1,
   "id": "43403061-dcbe-4a22-a56b-c7ed76789897",
   "metadata": {
    "tags": []
   },
   "outputs": [],
   "source": [
    "import cv2 as cv\n",
    "import numpy as np\n",
    "import os\n",
    "import matplotlib.pyplot as plt\n",
    "import random as rd"
   ]
  },
  {
   "cell_type": "code",
   "execution_count": 2,
   "id": "b2cd5975-308c-45c5-9e90-dbfc03373349",
   "metadata": {
    "tags": []
   },
   "outputs": [],
   "source": [
    "rd.seed(None)\n",
    "dataset_dir = 'dataset'\n",
    "background_dirt = 0.25 # 1=black background, 0=clear\n",
    "foreground_dirt = 0.1 # 1=white foreground, 0=clear\n",
    "edge_padding = 20 # px\n",
    "warp_factor = 0.4\n",
    "rotation_range = 60 # deg\n",
    "trim_step = 30 # px, trim whitespace off a side in multiples of this\n",
    "post_edge_padding = 0 # px\n",
    "trim_before_warp = False\n",
    "downscale_interpolation = cv.INTER_AREA # INTER_LINEAR, INTER_AREA\n",
    "img_size = (10,14) # (28,40) (24,34) (20,29) (16,23) (12,19) (10,14)\n",
    "\n",
    "def process_char(file):\n",
    "    img_orig = cv.imread(os.path.join(dataset_dir, file), cv.IMREAD_UNCHANGED)\n",
    "    \n",
    "    # create background, make grayscale, apply random dirt\n",
    "    bgcol = 1 - background_dirt * rd.random()\n",
    "    fgcol = foreground_dirt * rd.random()\n",
    "    img = np.ones((img_orig.shape[0],img_orig.shape[1])) * bgcol\n",
    "    img[img_orig[:,:,3] != 0] = fgcol\n",
    "    img = np.pad(img, edge_padding, constant_values=bgcol)\n",
    "\n",
    "    # apply random rotation by img center\n",
    "    # pad to prevent going out of shape range. This should work every time\n",
    "    pad_x = int(np.sum(np.square(img.shape))**(1/2)-img.shape[1])//2\n",
    "    pad_y = int(np.sum(np.square(img.shape))**(1/2)-img.shape[0])//2\n",
    "    img = np.pad(img, ((pad_y, pad_y), (pad_x, pad_x)), constant_values=bgcol)\n",
    "    matrix = cv.getRotationMatrix2D((img.shape[1]//2, img.shape[0]//2), (rd.random()-0.5)*rotation_range, 1)\n",
    "    rotated = cv.warpAffine(img, matrix, (img.shape[1],img.shape[0]), borderValue=bgcol)\n",
    "    \n",
    "    img = rotated\n",
    "\n",
    "    if trim_before_warp:\n",
    "        # trim additional whitespaces\n",
    "        while not any(img[:,2*trim_step]==fgcol):\n",
    "            img = img[:,trim_step:]\n",
    "        while not any(img[:,-2*trim_step]==fgcol):\n",
    "            img = img[:,:-trim_step]\n",
    "        while not any(img[2*trim_step,:]==fgcol):\n",
    "            img = img[trim_step:,:]\n",
    "        while not any(img[-2*trim_step,:]==fgcol):\n",
    "            img = img[:-trim_step,:]\n",
    "\n",
    "    # apply random warp\n",
    "    while True:\n",
    "        # get proportional warp ranges\n",
    "        offset_x, offset_y = int(img.shape[1] * warp_factor)//2, int(img.shape[0] * warp_factor)//2\n",
    "        points_start = np.float32([[0,0], [0, img.shape[0]], [img.shape[1], img.shape[0]], [img.shape[1], 0]])\n",
    "        # pad around to prevent warping out of shape range\n",
    "        # warp function's result shape doesn't expand to top and left\n",
    "        warped = np.pad(img, ((offset_y,offset_y),(offset_x,offset_x)), constant_values=bgcol)\n",
    "        # offset to actual character area for the warp function\n",
    "        points_start[:,0] += offset_x\n",
    "        points_start[:,1] += offset_y\n",
    "        points_end = np.copy(points_start)\n",
    "        points_end[:,0] = [i + (rd.random()-0.5) * offset_x for i in points_end[:,0]]\n",
    "        points_end[:,1] = [i + (rd.random()-0.5) * offset_y for i in points_end[:,1]]\n",
    "        matrix = cv.getPerspectiveTransform(points_start, points_end)\n",
    "        result_shape = (warped.shape[1],warped.shape[0])\n",
    "        warped = cv.warpPerspective(img, matrix, result_shape, borderValue=bgcol)\n",
    "        # check borders intersecting with character, warp valid if none\n",
    "        if all(warped[:,0]!=fgcol) and all(warped[:,-1]!=fgcol) and all(warped[0,:]!=fgcol) and all(warped[-1,:]!=fgcol):\n",
    "            break\n",
    "    \n",
    "    img = warped\n",
    "    \n",
    "    # trim additional whitespaces\n",
    "    while not any(img[:,2*trim_step]==fgcol):\n",
    "        img = img[:,trim_step:]\n",
    "    while not any(img[:,-2*trim_step]==fgcol):\n",
    "        img = img[:,:-trim_step]\n",
    "    while not any(img[2*trim_step,:]==fgcol):\n",
    "        img = img[trim_step:,:]\n",
    "    while not any(img[-2*trim_step,:]==fgcol):\n",
    "        img = img[:-trim_step,:]\n",
    "\n",
    "    img = np.pad(img, post_edge_padding, constant_values=bgcol)\n",
    "    img = cv.resize(img, img_size, interpolation=downscale_interpolation)\n",
    "\n",
    "    return (img, file[0])\n",
    "\n",
    "def process_all_chars():\n",
    "    chars_processed = []\n",
    "    for file in os.listdir(dataset_dir):\n",
    "        chars_processed.append(process_char(file))\n",
    "        \n",
    "    return chars_processed\n"
   ]
  },
  {
   "cell_type": "code",
   "execution_count": 3,
   "id": "242bc41f-06ef-446e-8810-cbbb4b206f8a",
   "metadata": {
    "tags": []
   },
   "outputs": [
    {
     "data": {
      "image/png": "[encoded data removed]",
      "text/plain": [
       "<Figure size 100x100 with 1 Axes>"
      ]
     },
     "metadata": {},
     "output_type": "display_data"
    },
    {
     "data": {
      "image/png": "[encoded data removed]",
      "text/plain": [
       "<Figure size 100x100 with 1 Axes>"
      ]
     },
     "metadata": {},
     "output_type": "display_data"
    },
    {
     "data": {
      "image/png": "[encoded data removed]",
      "text/plain": [
       "<Figure size 100x100 with 1 Axes>"
      ]
     },
     "metadata": {},
     "output_type": "display_data"
    },
    {
     "data": {
      "image/png": "[encoded data removed]",
      "text/plain": [
       "<Figure size 100x100 with 1 Axes>"
      ]
     },
     "metadata": {},
     "output_type": "display_data"
    },
    {
     "data": {
      "image/png": "[encoded data removed]",
      "text/plain": [
       "<Figure size 100x100 with 1 Axes>"
      ]
     },
     "metadata": {},
     "output_type": "display_data"
    },
    {
     "data": {
      "image/png": "[encoded data removed]",
      "text/plain": [
       "<Figure size 100x100 with 1 Axes>"
      ]
     },
     "metadata": {},
     "output_type": "display_data"
    },
    {
     "data": {
      "image/png": "[encoded data removed]",
      "text/plain": [
       "<Figure size 100x100 with 1 Axes>"
      ]
     },
     "metadata": {},
     "output_type": "display_data"
    },
    {
     "data": {
      "image/png": "[encoded data removed]",
      "text/plain": [
       "<Figure size 100x100 with 1 Axes>"
      ]
     },
     "metadata": {},
     "output_type": "display_data"
    },
    {
     "data": {
      "image/png": "[encoded data removed]",
      "text/plain": [
       "<Figure size 100x100 with 1 Axes>"
      ]
     },
     "metadata": {},
     "output_type": "display_data"
    },
    {
     "data": {
      "image/png": "[encoded data removed]",
      "text/plain": [
       "<Figure size 100x100 with 1 Axes>"
      ]
     },
     "metadata": {},
     "output_type": "display_data"
    },
    {
     "data": {
      "image/png": "[encoded data removed]",
      "text/plain": [
       "<Figure size 100x100 with 1 Axes>"
      ]
     },
     "metadata": {},
     "output_type": "display_data"
    },
    {
     "data": {
      "image/png": "[encoded data removed]",
      "text/plain": [
       "<Figure size 100x100 with 1 Axes>"
      ]
     },
     "metadata": {},
     "output_type": "display_data"
    },
    {
     "data": {
      "image/png": "[encoded data removed]",
      "text/plain": [
       "<Figure size 100x100 with 1 Axes>"
      ]
     },
     "metadata": {},
     "output_type": "display_data"
    },
    {
     "data": {
      "image/png": "[encoded data removed]",
      "text/plain": [
       "<Figure size 100x100 with 1 Axes>"
      ]
     },
     "metadata": {},
     "output_type": "display_data"
    },
    {
     "data": {
      "image/png": "[encoded data removed]",
      "text/plain": [
       "<Figure size 100x100 with 1 Axes>"
      ]
     },
     "metadata": {},
     "output_type": "display_data"
    },
    {
     "data": {
      "image/png": "[encoded data removed]",
      "text/plain": [
       "<Figure size 100x100 with 1 Axes>"
      ]
     },
     "metadata": {},
     "output_type": "display_data"
    },
    {
     "data": {
      "image/png": "[encoded data removed]",
      "text/plain": [
       "<Figure size 100x100 with 1 Axes>"
      ]
     },
     "metadata": {},
     "output_type": "display_data"
    },
    {
     "data": {
      "image/png": "[encoded data removed]",
      "text/plain": [
       "<Figure size 100x100 with 1 Axes>"
      ]
     },
     "metadata": {},
     "output_type": "display_data"
    },
    {
     "data": {
      "image/png": "[encoded data removed]",
      "text/plain": [
       "<Figure size 100x100 with 1 Axes>"
      ]
     },
     "metadata": {},
     "output_type": "display_data"
    },
    {
     "data": {
      "image/png": "[encoded data removed]",
      "text/plain": [
       "<Figure size 100x100 with 1 Axes>"
      ]
     },
     "metadata": {},
     "output_type": "display_data"
    },
    {
     "data": {
      "image/png": "[encoded data removed]",
      "text/plain": [
       "<Figure size 100x100 with 1 Axes>"
      ]
     },
     "metadata": {},
     "output_type": "display_data"
    },
    {
     "data": {
      "image/png": "[encoded data removed]",
      "text/plain": [
       "<Figure size 100x100 with 1 Axes>"
      ]
     },
     "metadata": {},
     "output_type": "display_data"
    },
    {
     "data": {
      "image/png": "[encoded data removed]",
      "text/plain": [
       "<Figure size 100x100 with 1 Axes>"
      ]
     },
     "metadata": {},
     "output_type": "display_data"
    },
    {
     "data": {
      "image/png": "[encoded data removed]",
      "text/plain": [
       "<Figure size 100x100 with 1 Axes>"
      ]
     },
     "metadata": {},
     "output_type": "display_data"
    },
    {
     "data": {
      "image/png": "[encoded data removed]",
      "text/plain": [
       "<Figure size 100x100 with 1 Axes>"
      ]
     },
     "metadata": {},
     "output_type": "display_data"
    },
    {
     "data": {
      "image/png": "[encoded data removed]",
      "text/plain": [
       "<Figure size 100x100 with 1 Axes>"
      ]
     },
     "metadata": {},
     "output_type": "display_data"
    },
    {
     "data": {
      "image/png": "[encoded data removed]",
      "text/plain": [
       "<Figure size 100x100 with 1 Axes>"
      ]
     },
     "metadata": {},
     "output_type": "display_data"
    },
    {
     "data": {
      "image/png": "[encoded data removed]",
      "text/plain": [
       "<Figure size 100x100 with 1 Axes>"
      ]
     },
     "metadata": {},
     "output_type": "display_data"
    },
    {
     "data": {
      "image/png": "[encoded data removed]",
      "text/plain": [
       "<Figure size 100x100 with 1 Axes>"
      ]
     },
     "metadata": {},
     "output_type": "display_data"
    },
    {
     "data": {
      "image/png": "[encoded data removed]",
      "text/plain": [
       "<Figure size 100x100 with 1 Axes>"
      ]
     },
     "metadata": {},
     "output_type": "display_data"
    },
    {
     "data": {
      "image/png": "[encoded data removed]",
      "text/plain": [
       "<Figure size 100x100 with 1 Axes>"
      ]
     },
     "metadata": {},
     "output_type": "display_data"
    },
    {
     "data": {
      "image/png": "[encoded data removed]",
      "text/plain": [
       "<Figure size 100x100 with 1 Axes>"
      ]
     },
     "metadata": {},
     "output_type": "display_data"
    },
    {
     "data": {
      "image/png": "[encoded data removed]",
      "text/plain": [
       "<Figure size 100x100 with 1 Axes>"
      ]
     },
     "metadata": {},
     "output_type": "display_data"
    },
    {
     "data": {
      "image/png": "[encoded data removed]",
      "text/plain": [
       "<Figure size 100x100 with 1 Axes>"
      ]
     },
     "metadata": {},
     "output_type": "display_data"
    },
    {
     "data": {
      "image/png": "[encoded data removed]",
      "text/plain": [
       "<Figure size 100x100 with 1 Axes>"
      ]
     },
     "metadata": {},
     "output_type": "display_data"
    }
   ],
   "source": [
    "if True:\n",
    "    for i in process_all_chars():\n",
    "        plt.figure('a', figsize=(1,1))\n",
    "        plt.axis('off')\n",
    "        plt.imshow(i[0], cmap='gray', vmin=0, vmax=1)\n",
    "        plt.show()"
   ]
  },
  {
   "cell_type": "code",
   "execution_count": 4,
   "id": "484e76c2-56bd-4e33-8d97-923d12da0e96",
   "metadata": {
    "tags": []
   },
   "outputs": [],
   "source": [
    "import tensorflow as tf\n",
    "from tensorflow import keras\n",
    "from tensorflow.keras import layers\n",
    "\n",
    "\n",
    "# input_size = (75,50)\n",
    "min_len, max_len = 5, 7\n",
    "\n"
   ]
  },
  {
   "cell_type": "code",
   "execution_count": null,
   "id": "7c789237-9f7f-4239-ba6c-eb7bdc7dab1f",
   "metadata": {
    "tags": []
   },
   "outputs": [],
   "source": []
  }
 ],
 "metadata": {
  "kernelspec": {
   "display_name": "Python 3 (ipykernel)",
   "language": "python",
   "name": "python3"
  },
  "language_info": {
   "codemirror_mode": {
    "name": "ipython",
    "version": 3
   },
   "file_extension": ".py",
   "mimetype": "text/x-python",
   "name": "python",
   "nbconvert_exporter": "python",
   "pygments_lexer": "ipython3",
   "version": "3.11.1"
  }
 },
 "nbformat": 4,
 "nbformat_minor": 5
}
